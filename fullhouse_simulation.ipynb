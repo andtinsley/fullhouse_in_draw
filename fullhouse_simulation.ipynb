{
 "cells": [
  {
   "cell_type": "code",
   "execution_count": 52,
   "metadata": {},
   "outputs": [],
   "source": [
    "import numpy as np\n",
    "import itertools\n",
    "import random\n",
    "import pandas as pd\n",
    "import seaborn as sns\n",
    "import matplotlib.pyplot as plt"
   ]
  },
  {
   "cell_type": "code",
   "execution_count": 3,
   "metadata": {},
   "outputs": [],
   "source": [
    "vals = ['2', '3', '4', '5', '6', '7', '8', '9', '10', 'J', 'Q', 'K', 'A']\n",
    "suits = ['diamonds', 'hearts', 'spades', 'clubs']\n",
    "\n",
    "deck = pd.DataFrame(itertools.product(vals, suits))"
   ]
  },
  {
   "cell_type": "code",
   "execution_count": 4,
   "metadata": {},
   "outputs": [
    {
     "name": "stdout",
     "output_type": "stream",
     "text": [
      "person 1 is dealt     0         1\n",
      "18  6    spades\n",
      "45  K    hearts\n",
      "43  Q     clubs\n",
      "26  8    spades\n",
      "8   4  diamonds\n",
      "person 2 is dealt     0       1\n",
      "47  K   clubs\n",
      "7   3   clubs\n",
      "50  A  spades\n",
      "39  J   clubs\n",
      "21  7  hearts\n"
     ]
    }
   ],
   "source": [
    "#select 5 cards at random for hand 1\n",
    "hand1 = deck.sample(5)\n",
    "print(\"person 1 is dealt\", hand1)\n",
    "##subtract out hand 1\n",
    "outer_join = deck.merge(hand1, how = 'outer', indicator = True)\n",
    "deck_minus_hand1 = outer_join[~(outer_join._merge == 'both')].drop('_merge', axis = 1)\n",
    "#hand2\n",
    "hand2 = deck_minus_hand1.sample(5)\n",
    "print(\"person 2 is dealt\", hand2)\n",
    "\n",
    "#remove hand1 and hand2 from deck \n",
    "outer_join = deck_minus_hand1.merge(hand2, how = 'outer', indicator = True)\n",
    "delt_deck = outer_join[~(outer_join._merge == 'both')].drop('_merge', axis = 1)"
   ]
  },
  {
   "cell_type": "code",
   "execution_count": 5,
   "metadata": {},
   "outputs": [],
   "source": [
    "hand2[0]=hand2[0].replace(['7'],('Q'))\n",
    "hand2[0]=hand2[0].replace(['6'],('Q'))"
   ]
  },
  {
   "cell_type": "markdown",
   "metadata": {},
   "source": [
    "Rules for drawing cards from the deck: \n",
    "If an ace is found without a two of a kind or three pair deal 4 keeping the ace.\n",
    "deal 3 for a pair throwing 2 cards at random \n",
    "deal 2 if 3 of a kind throwing 3 cards at random"
   ]
  },
  {
   "cell_type": "code",
   "execution_count": 6,
   "metadata": {},
   "outputs": [],
   "source": [
    "\n",
    "#define decision engine as which cards to keep and which to draw\n",
    "def hand(which_hand):\n",
    "    #any aces in your hand?\n",
    "    AnyAces = which_hand[0]==\"A\"\n",
    "    AnyAces = len(which_hand[AnyAces])\n",
    "    \n",
    "    two_of_a_kind_or_better = which_hand.groupby([0])[0].transform(\"count\").max() > 1\n",
    "\n",
    "    if AnyAces > 0 and two_of_a_kind_or_better == True:\n",
    "        keep_cards = which_hand.groupby([0])[0].transform(\"count\") > 1\n",
    "        keep_cards = which_hand[keep_cards]\n",
    "        n_draw = 5-len(keep_cards)\n",
    "    elif AnyAces > 0 and two_of_a_kind_or_better == False:\n",
    "        n_draw = 4\n",
    "        keep_ace = which_hand[0] == 'A'\n",
    "        keep_cards = which_hand[keep_ace]\n",
    "    elif AnyAces == 0 and two_of_a_kind_or_better == False:\n",
    "        n_draw = 3\n",
    "        keep_cards = which_hand.sample(2)\n",
    "    else: \n",
    "        keep_cards = which_hand.groupby([0])[0].transform(\"count\") > 1\n",
    "        keep_cards = which_hand[keep_cards]\n",
    "        n_draw = 5-len(keep_cards)\n",
    "    return n_draw, keep_cards"
   ]
  },
  {
   "cell_type": "markdown",
   "metadata": {},
   "source": [
    "Cards in both player hands before the draw"
   ]
  },
  {
   "cell_type": "code",
   "execution_count": 7,
   "metadata": {},
   "outputs": [
    {
     "name": "stdout",
     "output_type": "stream",
     "text": [
      "person 1: number of draws 3\n",
      "person 1: cards kept     0       1\n",
      "18  6  spades\n",
      "26  8  spades\n",
      "person 2: number of draws 4\n",
      "person 2: cards kept     0       1\n",
      "50  A  spades\n"
     ]
    }
   ],
   "source": [
    "n1_draw, keep_cards1 = hand(hand1)\n",
    "print(\"person 1: number of draws\", n1_draw)\n",
    "print(\"person 1: cards kept\", keep_cards1)\n",
    "n2_draw, keep_cards2 = hand(hand2)\n",
    "print(\"person 2: number of draws\", n2_draw)\n",
    "print(\"person 2: cards kept\", keep_cards2)"
   ]
  },
  {
   "cell_type": "code",
   "execution_count": 8,
   "metadata": {},
   "outputs": [],
   "source": [
    "#update hand based on decisions\n",
    "drawn1 = delt_deck.sample(n1_draw)\n",
    "##subtract out from first draw\n",
    "outer_join = delt_deck.merge(drawn1, how = 'outer', indicator = True)\n",
    "deck_minus_draw1 = outer_join[~(outer_join._merge == 'both')].drop('_merge', axis = 1)\n",
    "drawn2 = deck_minus_draw1.sample(n2_draw)"
   ]
  },
  {
   "cell_type": "code",
   "execution_count": 9,
   "metadata": {},
   "outputs": [],
   "source": [
    "final_hand1 = pd.concat([keep_cards1, drawn1])\n",
    "final_hand2 = pd.concat([keep_cards2, drawn2])"
   ]
  },
  {
   "cell_type": "markdown",
   "metadata": {},
   "source": [
    "Final hand to play from player 1 and player 2"
   ]
  },
  {
   "cell_type": "code",
   "execution_count": 10,
   "metadata": {},
   "outputs": [
    {
     "name": "stdout",
     "output_type": "stream",
     "text": [
      "final hand for player 1:\n",
      "    0         1\n",
      "18  6    spades\n",
      "26  8    spades\n",
      "3   2     clubs\n",
      "9   4    spades\n",
      "22  8  diamonds\n",
      "fianl hand for player 2:\n",
      "     0         1\n",
      "50   A    spades\n",
      "16   6     clubs\n",
      "21   8    hearts\n",
      "30  10     clubs\n",
      "14   6  diamonds\n"
     ]
    }
   ],
   "source": [
    "print(\"final hand for player 1:\")\n",
    "print(final_hand1)\n",
    "print(\"fianl hand for player 2:\")\n",
    "print(final_hand2)"
   ]
  },
  {
   "cell_type": "code",
   "execution_count": 32,
   "metadata": {},
   "outputs": [],
   "source": [
    "listTest = []\n",
    "listTest.append(final_hand1[0])"
   ]
  },
  {
   "cell_type": "markdown",
   "metadata": {},
   "source": [
    "if a full house is found return true"
   ]
  },
  {
   "cell_type": "code",
   "execution_count": 11,
   "metadata": {},
   "outputs": [],
   "source": [
    "\n",
    "def full_house(final_hand):\n",
    "    hand_value = final_hand[0].value_counts()\n",
    "    hand_value = ((hand_value == 2) | (hand_value == 3))\n",
    "    full_house = len(hand_value) == 2\n",
    "    return full_house"
   ]
  },
  {
   "cell_type": "code",
   "execution_count": 12,
   "metadata": {},
   "outputs": [],
   "source": [
    "fullHouse1 = full_house(final_hand1)\n",
    "fullHouse2 = full_house(final_hand2)"
   ]
  },
  {
   "cell_type": "markdown",
   "metadata": {},
   "source": [
    "score event where full house is played by player 1 and player 2"
   ]
  },
  {
   "cell_type": "code",
   "execution_count": 13,
   "metadata": {},
   "outputs": [],
   "source": [
    "if fullHouse1 == True & fullHouse2 == True:\n",
    "    total_fullhouse = 1\n",
    "else: total_fullhouse = 0"
   ]
  },
  {
   "cell_type": "code",
   "execution_count": 50,
   "metadata": {},
   "outputs": [],
   "source": [
    "#run simulation\n",
    "n_one_fullhouse = []\n",
    "p_one_fullhouse = []\n",
    "n_games_before_one_fullhouse = []\n",
    "n_two_fullhouses = []\n",
    "p_two_fullhouses = []\n",
    "n_games_before_two_fullhouses = []\n",
    "games = 10000\n",
    "simulations = 100\n",
    "\n",
    "for i in range(simulations):\n",
    "    one_fullhouse = []\n",
    "    two_fullhouses = []\n",
    "    number_games_before_one_fullhouse = []\n",
    "    number_games_before_two_fullhouse = []\n",
    "    for i in range(games):\n",
    "        #select 5 cards at random for hand 1\n",
    "        hand1 = deck.sample(5)\n",
    "        ##subtract out hand 1\n",
    "        outer_join = deck.merge(hand1, how = 'outer', indicator = True)\n",
    "        deck_minus_hand1 = outer_join[~(outer_join._merge == 'both')].drop('_merge', axis = 1)\n",
    "        #hand2\n",
    "        hand2 = deck_minus_hand1.sample(5)\n",
    "\n",
    "        #remove hand1 and hand2 from deck \n",
    "        outer_join = deck_minus_hand1.merge(hand2, how = 'outer', indicator = True)\n",
    "        delt_deck = outer_join[~(outer_join._merge == 'both')].drop('_merge', axis = 1)\n",
    "\n",
    "        #define decision engine as which cards to keep and which to draw\n",
    "        #define decision engine as which cards to keep and which to draw\n",
    "        def hand(which_hand):\n",
    "            #any aces in your hand?\n",
    "            AnyAces = which_hand[0]==\"A\"\n",
    "            AnyAces = len(which_hand[AnyAces])\n",
    "            \n",
    "            two_of_a_kind_or_better = which_hand.groupby([0])[0].transform(\"count\").max() > 1\n",
    "\n",
    "            if AnyAces > 0 and two_of_a_kind_or_better == True:\n",
    "                keep_cards = which_hand.groupby([0])[0].transform(\"count\") > 1\n",
    "                keep_cards = which_hand[keep_cards]\n",
    "                n_draw = 5-len(keep_cards)\n",
    "            elif AnyAces > 0 and two_of_a_kind_or_better == False:\n",
    "                n_draw = 4\n",
    "                keep_ace = which_hand[0] == 'A'\n",
    "                keep_cards = which_hand[keep_ace]\n",
    "            elif AnyAces == 0 and two_of_a_kind_or_better == False:\n",
    "                n_draw = 3\n",
    "                keep_cards = which_hand.sample(2)\n",
    "            else: \n",
    "                keep_cards = which_hand.groupby([0])[0].transform(\"count\") > 1\n",
    "                keep_cards = which_hand[keep_cards]\n",
    "                n_draw = 5-len(keep_cards)\n",
    "            return n_draw, keep_cards\n",
    "            \n",
    "        n1_draw, keep_cards1 = hand(hand1)\n",
    "        n2_draw, keep_cards2 = hand(hand2)\n",
    "        #update hand based on decisions\n",
    "        drawn1 = delt_deck.sample(n1_draw)\n",
    "        ##subtract out from first draw\n",
    "        outer_join = delt_deck.merge(drawn1, how = 'outer', indicator = True)\n",
    "        deck_minus_draw1 = outer_join[~(outer_join._merge == 'both')].drop('_merge', axis = 1)\n",
    "        drawn2 = deck_minus_draw1.sample(n2_draw)\n",
    "            \n",
    "        final_hand1 = pd.concat([keep_cards1, drawn1])\n",
    "        final_hand2 = pd.concat([keep_cards2, drawn2])\n",
    "        \n",
    "        def full_house(final_hand):\n",
    "            hand_value = final_hand[0].value_counts()\n",
    "            hand_value = ((hand_value == 2) | (hand_value == 3))\n",
    "            full_house = len(hand_value) == 2\n",
    "            return full_house\n",
    "        \n",
    "        fullHouse1 = full_house(final_hand1)\n",
    "        fullHouse2 = full_house(final_hand2)\n",
    "        #event with 2 full houses played\n",
    "        if fullHouse1 == True & fullHouse2 == True:\n",
    "            both_fullhouses = 1\n",
    "        else: both_fullhouses = 0\n",
    "\n",
    "        #event where 1 full house was played\n",
    "        if fullHouse1 == True or fullHouse2 == True:\n",
    "            single_fullhouse = 1\n",
    "        else: single_fullhouse = 0\n",
    "        \n",
    "        one_fullhouse.append(single_fullhouse)\n",
    "        two_fullhouses.append(both_fullhouses)\n",
    "\n",
    "        try:\n",
    "            number_games_before_one_fullhouse.append(one_fullhouse.index(1)+1)\n",
    "        except ValueError:\n",
    "            number_games_before_one_fullhouse.append(0)\n",
    "        try:\n",
    "            number_games_before_two_fullhouse.append(two_fullhouses.index(1)+1)\n",
    "        except ValueError:\n",
    "            number_games_before_two_fullhouse.append(0)\n",
    "\n",
    "    #one full houses\n",
    "    total_one_fullhouse = np.sum(one_fullhouse)\n",
    "    #probabily\n",
    "    prob_one_fullhouse = (np.sum(one_fullhouse) / games)*100\n",
    "\n",
    "    #two full houses\n",
    "    total_two_fullhouse = np.sum(two_fullhouses)\n",
    "    #probabily\n",
    "    prob_two_fullhouse = (np.sum(two_fullhouses) / games)*100\n",
    "\n",
    "    n_one_fullhouse.append(total_one_fullhouse)\n",
    "    p_one_fullhouse.append(prob_one_fullhouse)\n",
    "    n_two_fullhouses.append(total_two_fullhouse)\n",
    "    p_two_fullhouses.append(prob_two_fullhouse)\n",
    "    n_games_before_one_fullhouse.append(number_games_before_one_fullhouse)\n",
    "    n_games_before_two_fullhouses.append(number_games_before_two_fullhouse)\n",
    "\n"
   ]
  },
  {
   "cell_type": "code",
   "execution_count": 84,
   "metadata": {},
   "outputs": [
    {
     "name": "stdout",
     "output_type": "stream",
     "text": [
      "average probability of one of the players in two player game plays a fullhouse 2.7918000000000003\n",
      "(array([ 3.,  6.,  6., 13., 18., 19., 11., 12.,  8.,  4.]), array([2.39 , 2.467, 2.544, 2.621, 2.698, 2.775, 2.852, 2.929, 3.006,\n",
      "       3.083, 3.16 ]), <BarContainer object of 10 artists>)\n"
     ]
    },
    {
     "data": {
      "image/png": "[encoded data removed]",
      "text/plain": [
       "<Figure size 640x480 with 1 Axes>"
      ]
     },
     "metadata": {},
     "output_type": "display_data"
    }
   ],
   "source": [
    "print(\"average probability of one of the players in two player game plays a fullhouse\", np.mean(p_one_fullhouse))\n",
    "p_one_fullhouse_plot = plt.hist(p_one_fullhouse)\n",
    "plt.xlabel('Likelihood (%)')\n",
    "plt.ylabel('Frequency')\n",
    "plt.grid(False)\n",
    "print(p_one_fullhouse_plot)\n",
    "\n",
    "\n",
    "\n"
   ]
  },
  {
   "cell_type": "code",
   "execution_count": 83,
   "metadata": {},
   "outputs": [
    {
     "name": "stdout",
     "output_type": "stream",
     "text": [
      "average number of times one of the players plays a fullhouse during 10,000 games is 279.18\n",
      "(array([ 3.,  6.,  6., 13., 18., 19., 11., 12.,  8.,  4.]), array([239. , 246.7, 254.4, 262.1, 269.8, 277.5, 285.2, 292.9, 300.6,\n",
      "       308.3, 316. ]), <BarContainer object of 10 artists>)\n"
     ]
    },
    {
     "data": {
      "image/png": "[encoded data removed]",
      "text/plain": [
       "<Figure size 640x480 with 1 Axes>"
      ]
     },
     "metadata": {},
     "output_type": "display_data"
    }
   ],
   "source": [
    "print(\"average number of times one of the players plays a fullhouse during 10,000 games is\", np.mean(n_one_fullhouse))\n",
    "one_fullhouse_plot = plt.hist(n_one_fullhouse)\n",
    "plt.xlabel('Occurrences out of 10,000 games')\n",
    "plt.ylabel('n')\n",
    "plt.grid(False)\n",
    "print(one_fullhouse_plot)"
   ]
  },
  {
   "cell_type": "code",
   "execution_count": 79,
   "metadata": {},
   "outputs": [
    {
     "name": "stdout",
     "output_type": "stream",
     "text": [
      "probability of both players in a two player game both play a fullhouse 0.021 %\n",
      "(array([10.,  0., 25.,  0., 31.,  0., 19.,  0.,  6.,  9.]), array([0.   , 0.005, 0.01 , 0.015, 0.02 , 0.025, 0.03 , 0.035, 0.04 ,\n",
      "       0.045, 0.05 ]), <BarContainer object of 10 artists>)\n"
     ]
    },
    {
     "data": {
      "image/png": "[encoded data removed]",
      "text/plain": [
       "<Figure size 640x480 with 1 Axes>"
      ]
     },
     "metadata": {},
     "output_type": "display_data"
    }
   ],
   "source": [
    "print(\"probability of both players in a two player game both play a fullhouse\", np.mean(p_two_fullhouses).round(3), \"%\")\n",
    "p_two_fullhouse_plot = plt.hist(p_two_fullhouses)\n",
    "plt.xlabel('Likelihood (%)')\n",
    "plt.ylabel('Frequency')\n",
    "plt.grid(False)\n",
    "print(p_two_fullhouse_plot)\n",
    "\n"
   ]
  },
  {
   "cell_type": "code",
   "execution_count": 80,
   "metadata": {},
   "outputs": [
    {
     "name": "stdout",
     "output_type": "stream",
     "text": [
      "average number of times both players play fullhouses during 10,000 games is 2.13\n",
      "(array([10.,  0., 25.,  0., 31.,  0., 19.,  0.,  6.,  9.]), array([0. , 0.5, 1. , 1.5, 2. , 2.5, 3. , 3.5, 4. , 4.5, 5. ]), <BarContainer object of 10 artists>)\n"
     ]
    },
    {
     "data": {
      "image/png": "[encoded data removed]",
      "text/plain": [
       "<Figure size 640x480 with 1 Axes>"
      ]
     },
     "metadata": {},
     "output_type": "display_data"
    }
   ],
   "source": [
    "print(\"average number of times both players play fullhouses during 10,000 games is\", np.mean(n_two_fullhouses))\n",
    "two_fullhouse_plot = plt.hist(n_two_fullhouses)\n",
    "plt.xlabel('Occurrences out of 10,000 games')\n",
    "plt.ylabel('n')\n",
    "plt.grid(False)\n",
    "print(two_fullhouse_plot)\n"
   ]
  }
 ],
 "metadata": {
  "kernelspec": {
   "display_name": "Python 3.10.1 ('stats')",
   "language": "python",
   "name": "python3"
  },
  "language_info": {
   "codemirror_mode": {
    "name": "ipython",
    "version": 3
   },
   "file_extension": ".py",
   "mimetype": "text/x-python",
   "name": "python",
   "nbconvert_exporter": "python",
   "pygments_lexer": "ipython3",
   "version": "3.10.1"
  },
  "orig_nbformat": 4,
  "vscode": {
   "interpreter": {
    "hash": "2b4130aab477688fe879486b6b34fc7f062c08c336b649823ff4ecd2e744da0d"
   }
  }
 },
 "nbformat": 4,
 "nbformat_minor": 2
}
